{
 "cells": [
  {
   "cell_type": "markdown",
   "metadata": {},
   "source": [
    "# Exercise 3"
   ]
  },
  {
   "cell_type": "markdown",
   "metadata": {},
   "source": [
    "<p style=\"font-size:15px\">In this exercise, the task is to create an application to examine the format of films submitted to The Narbonne Online Film Festival and converting the files in the right format if necessary. For this, we will be using ffprobe to examine the files, and then ffmpeg to convert the files.</p>"
   ]
  },
  {
   "cell_type": "markdown",
   "metadata": {},
   "source": [
    "<p style=\"font-size:15px\">Let's first import Video from IPython.display. Video will be used to display the files.</p>"
   ]
  },
  {
   "cell_type": "code",
   "execution_count": 1,
   "metadata": {},
   "outputs": [
    {
     "name": "stdout",
     "output_type": "stream",
     "text": [
      "Collecting termcolor\n",
      "  Downloading termcolor-1.1.0.tar.gz (3.9 kB)\n",
      "Building wheels for collected packages: termcolor\n",
      "  Building wheel for termcolor (setup.py) ... \u001b[?25ldone\n",
      "\u001b[?25h  Created wheel for termcolor: filename=termcolor-1.1.0-py3-none-any.whl size=4830 sha256=b4f5f8b250f5ca1a09f550df2dc2393e770be712f09b6f228577d9982df1cd99\n",
      "  Stored in directory: /home/jovyan/.cache/pip/wheels/3f/e3/ec/8a8336ff196023622fbcb36de0c5a5c218cbb24111d1d4c7f2\n",
      "Successfully built termcolor\n",
      "Installing collected packages: termcolor\n",
      "Successfully installed termcolor-1.1.0\n",
      "\u001b[33mWARNING: You are using pip version 21.1.2; however, version 22.0.4 is available.\n",
      "You should consider upgrading via the '/opt/conda/bin/python -m pip install --upgrade pip' command.\u001b[0m\n",
      "Note: you may need to restart the kernel to use updated packages.\n"
     ]
    }
   ],
   "source": [
    "pip install termcolor"
   ]
  },
  {
   "cell_type": "code",
   "execution_count": 2,
   "metadata": {},
   "outputs": [],
   "source": [
    "from IPython.display import Video\n",
    "from termcolor import colored"
   ]
  },
  {
   "cell_type": "markdown",
   "metadata": {},
   "source": [
    "<p style=\"font-size:15px\">Next, we will download the latest FFMpeg static build.</p>"
   ]
  },
  {
   "cell_type": "code",
   "execution_count": 3,
   "metadata": {},
   "outputs": [
    {
     "name": "stdout",
     "output_type": "stream",
     "text": [
      "/usr/bin/ffmpeg\r\n"
     ]
    }
   ],
   "source": [
    "exist = !which ffmpeg\n",
    "if not exist:\n",
    "  !curl https://johnvansickle.com/ffmpeg/releases/ffmpeg-release-amd64-static.tar.xz -o ffmpeg.tar.xz \\\n",
    "     && tar -xf ffmpeg.tar.xz && rm ffmpeg.tar.xz\n",
    "  ffmdir = !find . -iname ffmpeg-*-static\n",
    "  path = %env PATH\n",
    "  path = path + ':' + ffmdir[0]\n",
    "  %env PATH $path\n",
    "\n",
    "!which ffmpeg"
   ]
  },
  {
   "cell_type": "markdown",
   "metadata": {},
   "source": [
    "<p style=\"font-size:15px\">Here we are just inserting the path of the files into a list, so that we can loop through it later.</p>"
   ]
  },
  {
   "cell_type": "code",
   "execution_count": 4,
   "metadata": {},
   "outputs": [],
   "source": [
    "filenames = [\"Exercise3_Films/Cosmos_War_of_the_Planets.mp4\", \n",
    "             \"Exercise3_Films/Last_man_on_earth_1964.mov\", \n",
    "             \"Exercise3_Films/The_Gun_and_the_Pulpit.avi\", \n",
    "             \"Exercise3_Films/The_Hill_Gang_Rides_Again.mp4\", \n",
    "             \"Exercise3_Films/Voyage_to_the_Planet_of_Prehistoric_Women.mp4\"]"
   ]
  },
  {
   "cell_type": "markdown",
   "metadata": {},
   "source": [
    "<p style=\"font-size:15px\">Now let's take a look at the videos.</p>"
   ]
  },
  {
   "cell_type": "code",
   "execution_count": 5,
   "metadata": {},
   "outputs": [
    {
     "data": {
      "text/html": [
       "<video src=\"Exercise3_Films/Cosmos_War_of_the_Planets.mp4\" controls  >\n",
       "      Your browser does not support the <code>video</code> element.\n",
       "    </video>"
      ],
      "text/plain": [
       "<IPython.core.display.Video object>"
      ]
     },
     "execution_count": 5,
     "metadata": {},
     "output_type": "execute_result"
    }
   ],
   "source": [
    "Video(filenames[0])"
   ]
  },
  {
   "cell_type": "code",
   "execution_count": 6,
   "metadata": {},
   "outputs": [
    {
     "data": {
      "text/html": [
       "<video src=\"Exercise3_Films/Last_man_on_earth_1964.mov\" controls  >\n",
       "      Your browser does not support the <code>video</code> element.\n",
       "    </video>"
      ],
      "text/plain": [
       "<IPython.core.display.Video object>"
      ]
     },
     "execution_count": 6,
     "metadata": {},
     "output_type": "execute_result"
    }
   ],
   "source": [
    "Video(filenames[1])"
   ]
  },
  {
   "cell_type": "code",
   "execution_count": 7,
   "metadata": {},
   "outputs": [
    {
     "data": {
      "text/html": [
       "<video src=\"Exercise3_Films/The_Gun_and_the_Pulpit.avi\" controls  >\n",
       "      Your browser does not support the <code>video</code> element.\n",
       "    </video>"
      ],
      "text/plain": [
       "<IPython.core.display.Video object>"
      ]
     },
     "execution_count": 7,
     "metadata": {},
     "output_type": "execute_result"
    }
   ],
   "source": [
    "Video(filenames[2])"
   ]
  },
  {
   "cell_type": "code",
   "execution_count": 8,
   "metadata": {},
   "outputs": [
    {
     "data": {
      "text/html": [
       "<video src=\"Exercise3_Films/The_Hill_Gang_Rides_Again.mp4\" controls  >\n",
       "      Your browser does not support the <code>video</code> element.\n",
       "    </video>"
      ],
      "text/plain": [
       "<IPython.core.display.Video object>"
      ]
     },
     "execution_count": 8,
     "metadata": {},
     "output_type": "execute_result"
    }
   ],
   "source": [
    "Video(filenames[3])"
   ]
  },
  {
   "cell_type": "code",
   "execution_count": 9,
   "metadata": {},
   "outputs": [
    {
     "data": {
      "text/html": [
       "<video src=\"Exercise3_Films/Voyage_to_the_Planet_of_Prehistoric_Women.mp4\" controls  >\n",
       "      Your browser does not support the <code>video</code> element.\n",
       "    </video>"
      ],
      "text/plain": [
       "<IPython.core.display.Video object>"
      ]
     },
     "execution_count": 9,
     "metadata": {},
     "output_type": "execute_result"
    }
   ],
   "source": [
    "Video(filenames[4])"
   ]
  },
  {
   "cell_type": "markdown",
   "metadata": {},
   "source": [
    "<p style=\"font-size:15px\">Looking at the displays, videos one and four look to be okay, while the rest definitely seem to have something wrong with them. However, we cannot determine whether a file has passed the requirements set by The Narbonne Online Festival (TNOF) unless we examine them with ffprobe. Here are the requirements provided by TNOF:</p>\n",
    "<table>\n",
    "    <tr>\n",
    "        <th style=\"text-align : center;\">Entries</th>\n",
    "        <th style=\"text-align : center;\">Format</th>\n",
    "    </tr>\n",
    "    <tr>\n",
    "        <td style=\"text-align : left;\">Video format (container)</td>\n",
    "        <td style=\"text-align : center;\">mp4</td>\n",
    "    </tr>\n",
    "    <tr>\n",
    "        <td style=\"text-align : left;\">Video codec</td>\n",
    "        <td style=\"text-align : center;\">h.264</td>\n",
    "    </tr>\n",
    "    <tr>\n",
    "        <td style=\"text-align : left;\">Audio codec</td>\n",
    "        <td style=\"text-align : center;\">aac</td>\n",
    "    </tr>\n",
    "    <tr>\n",
    "        <td style=\"text-align : left;\">Frame rate</td>\n",
    "        <td style=\"text-align : center;\">25 FPS</td>\n",
    "    </tr>\n",
    "    <tr>\n",
    "        <td style=\"text-align : left;\">Aspect Ratio</td>\n",
    "        <td style=\"text-align : center;\">16:9</td>\n",
    "    </tr>\n",
    "    <tr>\n",
    "        <td style=\"text-align : left;\">Resolution</td>\n",
    "        <td style=\"text-align : center;\">640 x 360</td>\n",
    "    </tr>\n",
    "    <tr>\n",
    "        <td style=\"text-align : left;\">Video bit rate</td>\n",
    "        <td style=\"text-align : center;\">2 – 5 Mb/s</td>\n",
    "    </tr>\n",
    "    <tr>\n",
    "        <td style=\"text-align : left;\">Audio bit rate</td>\n",
    "        <td style=\"text-align : center;\">up to 256 kb/s</td>\n",
    "    </tr>\n",
    "    <tr>\n",
    "        <td style=\"text-align : left;\">Audio channels</td>\n",
    "        <td style=\"text-align : center;\">stereo</td>\n",
    "    </tr>\n",
    "</table>"
   ]
  },
  {
   "cell_type": "markdown",
   "metadata": {},
   "source": [
    "<p style=\"font-size:15px\">\n",
    "    Let's write the function to examine the files.<br/><br/>\n",
    "    The function <strong>probe</strong> takes in the list of filepaths. Before looping through the list, a new empty list is initialized. This new list will be where we store the new filepaths of the converted files.<br/><br/>\n",
    "    For each file, ffprobe is used to extract video and audio streams. From the video stream, codec_name, display_aspect_ratio and bit_rate is retrieved. These values are equivalent to video codec, aspect ratio and video bit rate [1]. From the audio stream, codec_name, bit_rate and channel_layout is retrieved. These values are equivalent to audio codec, audio bit rate and audio channels [2].<br/><br/>\n",
    "    To get the frames per second of each video, we run a code that calculates the fps [3].<br/><br/>\n",
    "    The resolution of each file is determined by extracting the width and height from the video stream and converted into the right format (width:height) [4].<br/><br/>\n",
    "    To simplify the way format is extracted, the function simply splits the file name and gets the extension value [5].<br/><br/>\n",
    "    Next, the function compares each value to the requirements specified by TNOF. If any requirement has not been met, the function will print the error as well as write it into a report in TXT format. Unless the film has passed all checks, the videos will then be converted into the right format and outputted into a file with \"_formatOK\" at the end of it's name – indicating it has been formatted. The new file path will be inserted into the previously initialized list, and the list is returned after all files have been checked.<br/>\n",
    "</p>\n",
    "<p style=\"font-size:14px; color:red;\">The function will contain comments to explain the code more in-depth.</p>"
   ]
  },
  {
   "cell_type": "code",
   "execution_count": 10,
   "metadata": {},
   "outputs": [],
   "source": [
    "def probe(files):\n",
    "    newFiles = []\n",
    "    \n",
    "    # loop through file names\n",
    "    for file in files:\n",
    "        print(\"Checking\", file, \"...\")\n",
    "        # passed is a global boolean that will determine whether a film has passed or not\n",
    "        passed = True\n",
    "        \n",
    "        # [1] get codec_name, display_aspect_ratio and bit_rate from video stream\n",
    "        video_stream = !ffprobe -v error -select_streams v:0 -show_entries stream=codec_name,display_aspect_ratio,bit_rate -of default=noprint_wrappers=1:nokey=1 $file\n",
    "        # [2] get codec_name, bit_rate and channel_layout from audio stream\n",
    "        audio_stream = !ffprobe -v error -select_streams a:0 -show_entries stream=codec_name,bit_rate,channel_layout -of default=noprint_wrappers=1:nokey=1 $file\n",
    "        # [3] get fps\n",
    "        fps = !ffmpeg -i $file 2>&1 | sed -n \"s/.*, \\(.*\\) tbr.*/\\1/p\"\n",
    "        # [4] get height and width from video stream and convert to the right format for resolution\n",
    "        resolution = !ffprobe -v error -select_streams v:0 -show_entries stream=width,height -of csv=s=x:p=0 $file\n",
    "        \n",
    "        # get format name from the video stream\n",
    "#         videoformat = !ffprobe -v error -show_entries format=format_name -of default=noprint_wrappers=1:nokey=1 $file\n",
    "        # [5] alternatively, get video format by getting the extension of the file in index 1\n",
    "        videoformat = file.split('.')\n",
    "        \n",
    "        # the film file name is checked to contain \"formatOK\" to prevent an empty txt report file from generating\n",
    "        if \"formatOK\" not in videoformat[0]:\n",
    "            # videoformat[0] will be used to open a txt file\n",
    "            newFile = videoformat[0] + \".txt\"\n",
    "            writeFile = open(newFile, \"w\")\n",
    "            \n",
    "        # check if the film meets the requirement for video format\n",
    "        if videoformat[1] != \"mp4\":\n",
    "            # change global val passed to false\n",
    "            passed = False\n",
    "            # generate error statement, print, and write to report\n",
    "            problem = \"Format Error! \" + videoformat[1] + \" format unsupported. Only mp4 allowed.\"\n",
    "            print(colored(problem, 'red'))\n",
    "            writeFile.write(problem + \"\\n\")\n",
    "            \n",
    "        # check if the film meets the requirement for video codec\n",
    "        if video_stream[0] != \"h264\":\n",
    "            # change global val passed to false\n",
    "            passed = False\n",
    "            # generate error statement, print, and write to report\n",
    "            problem = \"Video Codec Error! \" + video_stream[0] + \" video codec unsupported. Only h264 allowed.\"\n",
    "            print(colored(problem, 'red'))\n",
    "            writeFile.write(problem + \"\\n\")\n",
    "        \n",
    "        # check if the film meets the requirement for audio codec\n",
    "        if audio_stream[0] != \"aac\":\n",
    "            # change global val passed to false\n",
    "            passed = False\n",
    "            # generate error statement, print, and write to report\n",
    "            problem = \"Audio Codec Error! \" + audio_stream[0] + \" audio codec unsupported. Only aac allowed.\"\n",
    "            print(colored(problem, 'red'))\n",
    "            writeFile.write(problem + \"\\n\")\n",
    "        \n",
    "        # check if the film meets the requirement for frames per second\n",
    "        if int(float(fps[0])) != 25:\n",
    "            # change global val passed to false\n",
    "            passed = False\n",
    "            # generate error statement, print, and write to report\n",
    "            problem = \"FPS Error! \" + str(int(float(fps[0]))) + \" fps unsupported. Only 25 fps allowed.\"\n",
    "            print(colored(problem, 'red'))\n",
    "            writeFile.write(problem + \"\\n\")\n",
    "        \n",
    "        # check if the film meets the requirement for aspect ratio\n",
    "        if video_stream[1] != \"16:9\":\n",
    "            # change global val passed to false\n",
    "            passed = False\n",
    "            # generate error statement, print, and write to report\n",
    "            problem = \"Aspect Ratio Error! \" + video_stream[1] + \" aspect ratio unsupported. Only 16:9 aspect ratio allowed.\"\n",
    "            print(colored(problem, 'red'))\n",
    "            writeFile.write(problem + \"\\n\")\n",
    "        \n",
    "        # check if the film meets the requirement for resolution\n",
    "        if resolution[0] != \"640x360\":\n",
    "            # change global val passed to false\n",
    "            passed = False\n",
    "            # generate error statement, print, and write to report\n",
    "            problem = \"Resolution Error! \" + resolution[0] + \" resolution unsupported. Only 640x360 allowed.\"\n",
    "            print(colored(problem, 'red'))\n",
    "            writeFile.write(problem + \"\\n\")\n",
    "        # check if the film meets the requirement for video bit rate\n",
    "        if round(float(video_stream[2])/1000000, 2) < 2.0 or round(float(video_stream[2])/1000000, 2) > 5:\n",
    "            # change global val passed to false\n",
    "            passed = False\n",
    "            # generate error statement, print, and write to report\n",
    "            problem = \"Video Bit Rate Error! \" + str(round(float(video_stream[2])/1000000, 2)) + \" mb/s video bitrate unsupported. Only bitrate between 2 and 5 mb/s allowed.\"\n",
    "            print(colored(problem, 'red'))\n",
    "            writeFile.write(problem + \"\\n\")\n",
    "        \n",
    "        # check if the film meets the requirement for audio bit rate\n",
    "        if round(float(audio_stream[2])/1000, 2) > 256.0:\n",
    "            # change global val passed to false\n",
    "            passed = False\n",
    "            # generate error statement, print, and write to report\n",
    "            problem = \"Audio Bit Rate Error! \" + str(round(float(audio_stream[2])/1000, 2)) + \" kb/s audio bitrate unsupported. Only bitrate up to 256 kb/s allowed.\"\n",
    "            print(colored(problem, 'red'))\n",
    "            writeFile.write(problem + \"\\n\")\n",
    "        \n",
    "        # check if the film meets the requirement for audio channels\n",
    "        if audio_stream[1] != \"stereo\":\n",
    "            # change global val passed to false\n",
    "            passed = False\n",
    "            # generate error statement, print, and write to report\n",
    "            problem = \"Audio Channel Error! \" + audio_stream[1] + \" audio channel unsupported. Only stereo allowed.\"\n",
    "            print(colored(problem, 'red'))\n",
    "            writeFile.write(problem + \"\\n\")\n",
    "        \n",
    "        # if all requirements met, film is ok and can be used\n",
    "        if passed:\n",
    "            print(\"Film has passed all checks.\\n\")\n",
    "        # if any requirement has not passed, we will convert the format\n",
    "        else:\n",
    "            formattedFile = videoformat[0] + \"_formatOK.mp4\"\n",
    "            # the code below converts the file into the correct formats\n",
    "            !ffmpeg -v error -y -i $file -c:av copy -b:v 4M -b:a 256k -r 25 -s 640x360 -aspect 16:9 -vcodec libx264 -acodec aac -ac 2 $formattedFile\n",
    "            # -v error        : prints errors should there be any\n",
    "            # -y              : \"yes\" to all \n",
    "            # -i $file        : file to be converted\n",
    "            # -c:av copy      : copies the video stream from $file into $formattedFile\n",
    "            # -b:v 4m         : changes the video bit rate to 4 mb/s\n",
    "            # -b:a 256k       : changes the audio bit rate to 256 kb/s\n",
    "            # -r 25           : changes the frames per second to 25\n",
    "            # -s 640x360      : changes the resolution to 640x360\n",
    "            # -aspect 16:9    : changes the aspect ratio to 16:9\n",
    "            # -vcodec libx264 : changes the video codec to h264\n",
    "            # -acodec aac     : changes the audio codec to aac\n",
    "            # -ac 2           : changes the audio channel to stereo\n",
    "            # $formattedFile  : changes the video to *.mp4 format\n",
    "            \n",
    "            print(\"Checks and conversions complete for \" + file + \"\\n\")    \n",
    "            # append formattedFile into newFiles\n",
    "            newFiles.append(formattedFile)\n",
    "            \n",
    "    # return newFiles\n",
    "    return newFiles"
   ]
  },
  {
   "cell_type": "markdown",
   "metadata": {},
   "source": [
    "<p style=\"font-size:15px;\">Let's invoke the <strong>probe</strong> function and pass in the list of filepaths.</p>"
   ]
  },
  {
   "cell_type": "code",
   "execution_count": 11,
   "metadata": {},
   "outputs": [
    {
     "name": "stdout",
     "output_type": "stream",
     "text": [
      "Checking Exercise3_Films/Cosmos_War_of_the_Planets.mp4 ...\n",
      "\u001b[31mFPS Error! 29 fps unsupported. Only 25 fps allowed.\u001b[0m\n",
      "\u001b[31mAspect Ratio Error! 314:177 aspect ratio unsupported. Only 16:9 aspect ratio allowed.\u001b[0m\n",
      "\u001b[31mResolution Error! 628x354 resolution unsupported. Only 640x360 allowed.\u001b[0m\n",
      "\u001b[31mAudio Bit Rate Error! 317.1 kb/s audio bitrate unsupported. Only bitrate up to 256 kb/s allowed.\u001b[0m\n",
      "Checks and conversions complete for Exercise3_Films/Cosmos_War_of_the_Planets.mp4\n",
      "\n",
      "Checking Exercise3_Films/Last_man_on_earth_1964.mov ...\n",
      "\u001b[31mFormat Error! mov format unsupported. Only mp4 allowed.\u001b[0m\n",
      "\u001b[31mVideo Codec Error! prores video codec unsupported. Only h264 allowed.\u001b[0m\n",
      "\u001b[31mAudio Codec Error! pcm_s16le audio codec unsupported. Only aac allowed.\u001b[0m\n",
      "\u001b[31mFPS Error! 23 fps unsupported. Only 25 fps allowed.\u001b[0m\n",
      "\u001b[31mVideo Bit Rate Error! 9.29 mb/s video bitrate unsupported. Only bitrate between 2 and 5 mb/s allowed.\u001b[0m\n",
      "\u001b[31mAudio Bit Rate Error! 1536.0 kb/s audio bitrate unsupported. Only bitrate up to 256 kb/s allowed.\u001b[0m\n",
      "Checks and conversions complete for Exercise3_Films/Last_man_on_earth_1964.mov\n",
      "\n",
      "Checking Exercise3_Films/The_Gun_and_the_Pulpit.avi ...\n",
      "\u001b[31mFormat Error! avi format unsupported. Only mp4 allowed.\u001b[0m\n",
      "\u001b[31mVideo Codec Error! rawvideo video codec unsupported. Only h264 allowed.\u001b[0m\n",
      "\u001b[31mAudio Codec Error! pcm_s16le audio codec unsupported. Only aac allowed.\u001b[0m\n",
      "\u001b[31mAspect Ratio Error! 0:1 aspect ratio unsupported. Only 16:9 aspect ratio allowed.\u001b[0m\n",
      "\u001b[31mResolution Error! 720x404 resolution unsupported. Only 640x360 allowed.\u001b[0m\n",
      "\u001b[31mVideo Bit Rate Error! 87.44 mb/s video bitrate unsupported. Only bitrate between 2 and 5 mb/s allowed.\u001b[0m\n",
      "\u001b[31mAudio Bit Rate Error! 1536.0 kb/s audio bitrate unsupported. Only bitrate up to 256 kb/s allowed.\u001b[0m\n",
      "\u001b[31mAudio Channel Error! unknown audio channel unsupported. Only stereo allowed.\u001b[0m\n",
      "Checks and conversions complete for Exercise3_Films/The_Gun_and_the_Pulpit.avi\n",
      "\n",
      "Checking Exercise3_Films/The_Hill_Gang_Rides_Again.mp4 ...\n",
      "\u001b[31mVideo Bit Rate Error! 7.54 mb/s video bitrate unsupported. Only bitrate between 2 and 5 mb/s allowed.\u001b[0m\n",
      "Checks and conversions complete for Exercise3_Films/The_Hill_Gang_Rides_Again.mp4\n",
      "\n",
      "Checking Exercise3_Films/Voyage_to_the_Planet_of_Prehistoric_Women.mp4 ...\n",
      "\u001b[31mVideo Codec Error! hevc video codec unsupported. Only h264 allowed.\u001b[0m\n",
      "\u001b[31mAudio Codec Error! mp3 audio codec unsupported. Only aac allowed.\u001b[0m\n",
      "\u001b[31mFPS Error! 29 fps unsupported. Only 25 fps allowed.\u001b[0m\n",
      "\u001b[31mVideo Bit Rate Error! 8.04 mb/s video bitrate unsupported. Only bitrate between 2 and 5 mb/s allowed.\u001b[0m\n",
      "\u001b[31mAudio Bit Rate Error! 320.0 kb/s audio bitrate unsupported. Only bitrate up to 256 kb/s allowed.\u001b[0m\n",
      "Checks and conversions complete for Exercise3_Films/Voyage_to_the_Planet_of_Prehistoric_Women.mp4\n",
      "\n"
     ]
    },
    {
     "data": {
      "text/plain": [
       "['Exercise3_Films/Cosmos_War_of_the_Planets_formatOK.mp4',\n",
       " 'Exercise3_Films/Last_man_on_earth_1964_formatOK.mp4',\n",
       " 'Exercise3_Films/The_Gun_and_the_Pulpit_formatOK.mp4',\n",
       " 'Exercise3_Films/The_Hill_Gang_Rides_Again_formatOK.mp4',\n",
       " 'Exercise3_Films/Voyage_to_the_Planet_of_Prehistoric_Women_formatOK.mp4']"
      ]
     },
     "execution_count": 11,
     "metadata": {},
     "output_type": "execute_result"
    }
   ],
   "source": [
    "formatted_files = probe(filenames)\n",
    "formatted_files"
   ]
  },
  {
   "cell_type": "markdown",
   "metadata": {},
   "source": [
    "<p style=\"font-size:15px;\">As you can see, each file has problematic fields that do not meet the requirements specified, as well as conversions for each file being done. To check if the newly formatted files are indeed in the right format, we'll pass the new list into the function again.</p>"
   ]
  },
  {
   "cell_type": "code",
   "execution_count": 12,
   "metadata": {},
   "outputs": [
    {
     "name": "stdout",
     "output_type": "stream",
     "text": [
      "Checking Exercise3_Films/Cosmos_War_of_the_Planets_formatOK.mp4 ...\n",
      "Film has passed all checks.\n",
      "\n",
      "Checking Exercise3_Films/Last_man_on_earth_1964_formatOK.mp4 ...\n",
      "Film has passed all checks.\n",
      "\n",
      "Checking Exercise3_Films/The_Gun_and_the_Pulpit_formatOK.mp4 ...\n",
      "Film has passed all checks.\n",
      "\n",
      "Checking Exercise3_Films/The_Hill_Gang_Rides_Again_formatOK.mp4 ...\n",
      "Film has passed all checks.\n",
      "\n",
      "Checking Exercise3_Films/Voyage_to_the_Planet_of_Prehistoric_Women_formatOK.mp4 ...\n",
      "Film has passed all checks.\n",
      "\n"
     ]
    },
    {
     "data": {
      "text/plain": [
       "[]"
      ]
     },
     "execution_count": 12,
     "metadata": {},
     "output_type": "execute_result"
    }
   ],
   "source": [
    "probe(formatted_files)"
   ]
  },
  {
   "cell_type": "markdown",
   "metadata": {},
   "source": [
    "<p style=\"font-size:15px;\">Now all the files have passed the checks. Let's display the videos as well.</p>"
   ]
  },
  {
   "cell_type": "code",
   "execution_count": 13,
   "metadata": {},
   "outputs": [
    {
     "data": {
      "text/html": [
       "<video src=\"Exercise3_Films/Cosmos_War_of_the_Planets_formatOK.mp4\" controls  >\n",
       "      Your browser does not support the <code>video</code> element.\n",
       "    </video>"
      ],
      "text/plain": [
       "<IPython.core.display.Video object>"
      ]
     },
     "execution_count": 13,
     "metadata": {},
     "output_type": "execute_result"
    }
   ],
   "source": [
    "Video(formatted_files[0])"
   ]
  },
  {
   "cell_type": "code",
   "execution_count": 14,
   "metadata": {},
   "outputs": [
    {
     "data": {
      "text/html": [
       "<video src=\"Exercise3_Films/Last_man_on_earth_1964_formatOK.mp4\" controls  >\n",
       "      Your browser does not support the <code>video</code> element.\n",
       "    </video>"
      ],
      "text/plain": [
       "<IPython.core.display.Video object>"
      ]
     },
     "execution_count": 14,
     "metadata": {},
     "output_type": "execute_result"
    }
   ],
   "source": [
    "Video(formatted_files[1])"
   ]
  },
  {
   "cell_type": "code",
   "execution_count": 15,
   "metadata": {},
   "outputs": [
    {
     "data": {
      "text/html": [
       "<video src=\"Exercise3_Films/The_Gun_and_the_Pulpit_formatOK.mp4\" controls  >\n",
       "      Your browser does not support the <code>video</code> element.\n",
       "    </video>"
      ],
      "text/plain": [
       "<IPython.core.display.Video object>"
      ]
     },
     "execution_count": 15,
     "metadata": {},
     "output_type": "execute_result"
    }
   ],
   "source": [
    "Video(formatted_files[2])"
   ]
  },
  {
   "cell_type": "code",
   "execution_count": 16,
   "metadata": {},
   "outputs": [
    {
     "data": {
      "text/html": [
       "<video src=\"Exercise3_Films/The_Hill_Gang_Rides_Again_formatOK.mp4\" controls  >\n",
       "      Your browser does not support the <code>video</code> element.\n",
       "    </video>"
      ],
      "text/plain": [
       "<IPython.core.display.Video object>"
      ]
     },
     "execution_count": 16,
     "metadata": {},
     "output_type": "execute_result"
    }
   ],
   "source": [
    "Video(formatted_files[3])"
   ]
  },
  {
   "cell_type": "code",
   "execution_count": 17,
   "metadata": {},
   "outputs": [
    {
     "data": {
      "text/html": [
       "<video src=\"Exercise3_Films/Voyage_to_the_Planet_of_Prehistoric_Women_formatOK.mp4\" controls  >\n",
       "      Your browser does not support the <code>video</code> element.\n",
       "    </video>"
      ],
      "text/plain": [
       "<IPython.core.display.Video object>"
      ]
     },
     "execution_count": 17,
     "metadata": {},
     "output_type": "execute_result"
    }
   ],
   "source": [
    "Video(formatted_files[4])"
   ]
  },
  {
   "cell_type": "markdown",
   "metadata": {},
   "source": [
    "<p style=\"font-size:15px;\">Now we can see that all the films are playing fine, and with the right formats.</p>"
   ]
  },
  {
   "cell_type": "markdown",
   "metadata": {},
   "source": [
    "## References\n",
    "<ul>\n",
    "    <strong>Retreiving with ffprobe</strong>\n",
    "    <li>\n",
    "        https://stackoverflow.com/questions/47905083/how-to-check-number-of-channels-in-my-audio-wav-file-using-ffmpeg-command\n",
    "    </li>\n",
    "    <strong>Retreiving FPS</strong>\n",
    "    <li>\n",
    "        https://askubuntu.com/questions/110264/how-to-find-frames-per-second-of-any-video-file\n",
    "    </li>\n",
    "    <strong>Retreiving resolution</strong>\n",
    "    <li>\n",
    "        https://superuser.com/questions/841235/how-do-i-use-ffmpeg-to-get-the-video-resolution\n",
    "    </li>\n",
    "<!--     <li>\n",
    "        https://stackoverflow.com/questions/62795409/how-to-find-out-exact-container-format-of-a-video-file-using-ffprobe\n",
    "    </li> -->\n",
    "<!--     <li>\n",
    "        https://stackoverflow.com/questions/2869281/how-to-determine-video-codec-of-a-file-with-ffmpeg\n",
    "    </li> -->\n",
    "<!--     <li>\n",
    "        https://write.corbpie.com/getting-video-bitrate-with-ffprobe/\n",
    "    </li> -->\n",
    "    <br/>\n",
    "    <strong>Coursera Lab</strong>\n",
    "    <li>\n",
    "        https://www.coursera.org/learn/uol-cm3065-intelligent-signal-processing/ungradedLab/GoXFL/10-007-exercise-19-processing-video-with-ffmpeg/lab?path=%2Fnotebooks%2FExercises%2FExercise%252019.%2520Processing%2520video%2520with%2520ffmpeg.ipynb\n",
    "    </li>\n",
    "    <strong>Converting with ffmpeg</strong>\n",
    "    <li>\n",
    "        https://opensource.com/article/17/6/ffmpeg-convert-media-file-formats\n",
    "    </li>\n",
    "    <strong>Converting video codec</strong>\n",
    "    <li>\n",
    "        https://stackoverflow.com/questions/5678695/ffmpeg-usage-to-encode-a-video-to-h264-codec-format\n",
    "    </li>\n",
    "    <strong>Converting audio channel</strong>\n",
    "    <li>\n",
    "        https://trac.ffmpeg.org/wiki/AudioChannelManipulation\n",
    "    </li>\n",
    "    <strong>Converting aspect ratio</strong>\n",
    "    <li>\n",
    "        https://www.youtube.com/watch?v=9EY19Dea534\n",
    "    </li>\n",
    "<!--     <li>\n",
    "        https://trac.ffmpeg.org/wiki/ChangingFrameRate\n",
    "    </li> -->\n",
    "<!--     <li>\n",
    "        https://stackoverflow.com/questions/24087249/ffmpeg-change-resolution-of-the-video-with-aspect-ratio\n",
    "    </li> -->\n",
    "<!--     <li>\n",
    "        https://stackoverflow.com/questions/45464788/resize-and-change-bitrate-with-ffmpeg\n",
    "    </li> -->\n",
    "</ul>"
   ]
  }
 ],
 "metadata": {
  "kernelspec": {
   "display_name": "Python 3",
   "language": "python",
   "name": "python3"
  },
  "language_info": {
   "codemirror_mode": {
    "name": "ipython",
    "version": 3
   },
   "file_extension": ".py",
   "mimetype": "text/x-python",
   "name": "python",
   "nbconvert_exporter": "python",
   "pygments_lexer": "ipython3",
   "version": "3.7.6"
  }
 },
 "nbformat": 4,
 "nbformat_minor": 4
}
