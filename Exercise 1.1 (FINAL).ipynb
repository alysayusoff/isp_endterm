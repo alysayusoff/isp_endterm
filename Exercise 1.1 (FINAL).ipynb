{
 "cells": [
  {
   "cell_type": "code",
   "execution_count": 1,
   "id": "24ab725b",
   "metadata": {},
   "outputs": [],
   "source": [
    "pip install pyttsx3"
   ]
  },
  {
   "cell_type": "code",
   "execution_count": 2,
   "id": "1b56f866",
   "metadata": {},
   "outputs": [],
   "source": [
    "pip install pywin32"
   ]
  },
  {
   "cell_type": "code",
   "execution_count": 3,
   "id": "d574350f",
   "metadata": {},
   "outputs": [],
   "source": [
    "pip install numpy"
   ]
  },
  {
   "cell_type": "code",
   "execution_count": 4,
   "id": "b99371f1",
   "metadata": {},
   "outputs": [],
   "source": [
    "pip install opencv-python"
   ]
  },
  {
   "cell_type": "markdown",
   "id": "86b52b2a",
   "metadata": {},
   "source": [
    "# Exercise 1.1"
   ]
  },
  {
   "cell_type": "markdown",
   "id": "46c4a20a",
   "metadata": {},
   "source": [
    "<p style=\"font-size:15px;\">In this exercise, (I am required to) create an application that detects and tracks moving objects, specifically cars in Laramie (Wyoming, US). The way the application works is through frame differencing and background subtraction.</p>\n",
    "\n",
    "<p style=\"font-size:15px;\">Firstly, we need to convert each frame of the recording into grayscale. Using the newly gray fram, we compare it to the first frame of the recording to find the difference. The difference will then be examined - if there are pixels above a certain number, we will map that pixel up to 255, which is the highest value. Finally, the frame is blurred.</p>\n",
    "\n",
    "<p style=\"font-size:15px;\">Using the final blurred frame, the contours of each moving object is obtained. For each contour, is the area of it is more than a certain value, a box will be drawn around it to identify it as a moving object.</p>\n",
    "\n",
    "<p style=\"font-size:14px; color:red;\">The function will contain comments to explain the code more in-depth.</p>"
   ]
  },
  {
   "cell_type": "code",
   "execution_count": 5,
   "id": "42e8b192",
   "metadata": {},
   "outputs": [],
   "source": [
    "import cv2\n",
    "import numpy as np"
   ]
  },
  {
   "cell_type": "code",
   "execution_count": 6,
   "id": "14630ecd",
   "metadata": {},
   "outputs": [],
   "source": [
    "# three false positives\n",
    "def object_detection(file):\n",
    "    # create VideoCapture object and read frames from input file\n",
    "    video = cv2.VideoCapture(file)\n",
    "    # check if video opened successfully\n",
    "    if (video.isOpened()== False):\n",
    "        print(\"Error opening video file.\")\n",
    "    else:\n",
    "        print(\"Video opened successfully!\")\n",
    "    # global baseline\n",
    "    initial_frame = None\n",
    "    # loop until video completes\n",
    "    while True:\n",
    "        # capture frame-by-frame\n",
    "        check, frame = video.read()\n",
    "        # if there are no more frames to read, exit\n",
    "        if frame is None:\n",
    "            break\n",
    "        # option to exit with 'q'\n",
    "        if cv2.waitKey(1) & 0xFF == ord(\"q\"):\n",
    "            break\n",
    "            \n",
    "        # [600, 1040] is the height and width of the video\n",
    "        # we are only interested in the main road which is bound to [265:, 0:]\n",
    "        main_road = frame[265:600, 0:1040]\n",
    "        # draw a line to separate the video and main road\n",
    "        cv2.line(frame, (0, 260), (1040, 260), (0, 0, 255), 5, 8, 0)\n",
    "        \n",
    "        # gray conversion\n",
    "        gray_frame = cv2.cvtColor(main_road, cv2.COLOR_BGR2GRAY)\n",
    "        # set first captured frame as the baseline\n",
    "        if initial_frame is None:\n",
    "            initial_frame = gray_frame\n",
    "        # find the difference of the current frame from the baseline \n",
    "        delta_frame = cv2.absdiff(initial_frame, gray_frame)\n",
    "        # if a pixel value is more than 40, assign it to 255\n",
    "        _, threshold_frame = cv2.threshold(delta_frame, 30, 255, cv2.THRESH_BINARY)\n",
    "        # noise reduction\n",
    "        blur_frame = cv2.GaussianBlur(threshold_frame, (5, 5), 0)\n",
    "        \n",
    "        # identify all the contours in the video\n",
    "        (contours, _) = cv2.findContours(blur_frame, cv2.RETR_TREE, cv2.CHAIN_APPROX_SIMPLE)\n",
    "        for c in contours:\n",
    "            # if the contour area is more than a certain value, draw a rectangle around it\n",
    "            if cv2.contourArea(c) > 3000:\n",
    "                x, y, w, h, = cv2.boundingRect(c)\n",
    "                cv2.rectangle(main_road, (x, y), (x + w, y + h), (0, 255, 0), 1)\n",
    "                \n",
    "        # show video\n",
    "        cv2.imshow(\"CCTV\", frame)\n",
    "        # cv2.imshow(\"Main Road\", main_road)\n",
    "        # cv2.imshow(\"Gray Frame\", gray_frame)\n",
    "        # cv2.imshow(\"Blur Frame\", blur_frame)\n",
    "        # cv2.imshow('Delta frame', delta_frame)   \n",
    "        # cv2.imshow('Threshold frame', threshold_frame)\n",
    "        \n",
    "    # release video object\n",
    "    video.release()\n",
    "    # destroy all windows\n",
    "    cv2.destroyAllWindows()"
   ]
  },
  {
   "cell_type": "code",
   "execution_count": 7,
   "id": "9a49940a",
   "metadata": {},
   "outputs": [
    {
     "name": "stdout",
     "output_type": "stream",
     "text": [
      "Video opened successfully!\n"
     ]
    }
   ],
   "source": [
    "object_detection('Exercise1_Files/Traffic_Laramie_1.mp4')"
   ]
  },
  {
   "cell_type": "markdown",
   "id": "7742920a",
   "metadata": {},
   "source": [
    "## References\n",
    "<ul>\n",
    "    <li>\n",
    "        <a href=https://www.coursera.org/learn/uol-cm3065-intelligent-signal-processing/ungradedLab/0PXRU/7-104-exercise-15-introduction-to-motion-detection-with-opencv-and-python/lab?path=%2Fnotebooks%2FExercises%2FExercise%252015.%2520Introduction%2520to%2520motion%2520detection%2520with%2520OpenCV%2520and%2520Python.ipynb>Coursera Lab</a>\n",
    "    </li>\n",
    "</ul>"
   ]
  }
 ],
 "metadata": {
  "kernelspec": {
   "display_name": "Python 3",
   "language": "python",
   "name": "python3"
  },
  "language_info": {
   "codemirror_mode": {
    "name": "ipython",
    "version": 3
   },
   "file_extension": ".py",
   "mimetype": "text/x-python",
   "name": "python",
   "nbconvert_exporter": "python",
   "pygments_lexer": "ipython3",
   "version": "3.8.8"
  }
 },
 "nbformat": 4,
 "nbformat_minor": 5
}
